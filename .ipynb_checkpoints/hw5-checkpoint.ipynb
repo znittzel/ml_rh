{
 "cells": [
  {
   "cell_type": "markdown",
   "metadata": {},
   "source": [
    "$\\qquad$ $\\qquad$$\\qquad$  **TDA 231 Machine Learning: Homework 5** <br />\n",
    "$\\qquad$ $\\qquad$$\\qquad$ **Goal: Clustering**<br />\n",
    "$\\qquad$ $\\qquad$$\\qquad$                   **Grader: Aristide** <br />\n",
    "$\\qquad$ $\\qquad$$\\qquad$                     **Due Date: 21/5** <br />\n",
    "$\\qquad$ $\\qquad$$\\qquad$                   **Submitted by: Rikard Olsson, 900713-0355, rikolss@student.chalmers.se** <br />\n",
    "$\\qquad$ $\\qquad$$\\qquad$      **and by: Sharan Sabi, 951207-7554, ssharan@student.chalmers.se**\n",
    "<br />"
   ]
  },
  {
   "cell_type": "markdown",
   "metadata": {},
   "source": [
    "General guidelines:\n",
    "* Since there is no theoretical part for this assigment, submit this ipynb only (with completed code/results).\n",
    "* All discussion regarding practical problems, along with solutions and plots should be specified here itself. We will not generate the solutions/plots again by running your code.\n",
    "* Your name, personal number and email address should be specified above.\n",
    "* All datasets can be downloaded from the course website.\n",
    "* All plots/tables and other relevant information should be included."
   ]
  },
  {
   "cell_type": "markdown",
   "metadata": {},
   "source": [
    "# Practical problems\n",
    "\n",
    "The follwing code might be useful for this excercise.\n",
    "\n",
    "```python\n",
    "import scipy.io\n",
    "mat = scipy.io.loadmat('hw5_p1a.mat')\n",
    "print (mat.keys())\n",
    "X = mat['X']\n",
    "```\n",
    "\n",
    "## [K-Means Implementation, 20 points]\n",
    "\n",
    "a. Implement the basic (linear) $k$-means algorithm as described in the lecture, using the euclidean distance. Use (uniformly) random points from the data as initialization for the centroids. Terminate the iterative procedure when the the cluster assignments do not change.\n",
    "\n",
    "b. Run your implementation on the matrix $X$ in **hw5_p1a.mat** with $k=2$. Each row of the matrix is an observation, and each column is a feature. Store the cluster assignment both after 2 iterations, and at convergence. Produce a scatter plot of the data with colors indicating the cluster assignments at convergence and highlight points that have changed assignment after the second iteration.\n",
    "\n",
    "c. Implement the kernel $k$-means algorithm as described in the lecture, using the Gaussian RBF-kernel.\n",
    "\n",
    "\n",
    "d. Run the linear $k$-means **and** your kernel $k$-means on **hw5_p1b.mat** with $k=2$. For the Gaussian RBF-kernel, use $\\sigma=0.2$. Produce scatter plots of the data, with color indicating the cluster assignment at convergence, one plot for each of the algorithms."
   ]
  },
  {
   "cell_type": "code",
   "execution_count": 9,
   "metadata": {},
   "outputs": [
    {
     "name": "stdout",
     "output_type": "stream",
     "text": [
      "[array([nan, nan]), array([0.39237922, 0.40110461])]\n"
     ]
    },
    {
     "name": "stderr",
     "output_type": "stream",
     "text": [
      "/Users/rikardolsson/anaconda2/lib/python2.7/site-packages/ipykernel_launcher.py:65: RuntimeWarning: invalid value encountered in divide\n"
     ]
    },
    {
     "data": {
      "image/png": "[encoded data removed]",
      "text/plain": [
       "<matplotlib.figure.Figure at 0x1168b7510>"
      ]
     },
     "metadata": {},
     "output_type": "display_data"
    }
   ],
   "source": [
    "import scipy.io\n",
    "import numpy as np\n",
    "import copy\n",
    "import matplotlib.pyplot as plt\n",
    "\n",
    "mat = scipy.io.loadmat('hw5_p1a.mat')\n",
    "X = mat['X']\n",
    "\n",
    "################################################## a) #############################################\n",
    "# Assume 2 clusters, K = 2\n",
    "K = 2\n",
    "\n",
    "# Define z as the centriods for which the points are assigned to\n",
    "z = {}\n",
    "for i in range(0,K):\n",
    "    z[i] = {}\n",
    "\n",
    "# Run until the mu's are not changed anymore\n",
    "while True:\n",
    "    \n",
    "    # Define mu as the centroids\n",
    "    mu = []\n",
    "\n",
    "    # Guess their centroids (qualified guess :)\n",
    "    for i in range(0,K):\n",
    "        mu.append([-3,3])\n",
    "\n",
    "    # Create a deep copy of z to compare with if z has changed\n",
    "    z_n = copy.deepcopy(z)\n",
    "\n",
    "    # Calculate the distance from every point to mu_1 and mu_2\n",
    "    for i in range(0, len(X)):\n",
    "        p = X[i]\n",
    "        \n",
    "        # Define a m_short to indicate which mu that had shortest distance to point p\n",
    "        mu_short = {\n",
    "           \"dis\": 99,\n",
    "           \"index\": -1\n",
    "        }\n",
    "        \n",
    "        # Calculate which mu has shortest distance\n",
    "        for m_i in range(0,len(mu)):\n",
    "            if np.linalg.norm(p-mu[m_i]) < mu_short[\"dis\"]:\n",
    "                mu_short[\"index\"] = m_i\n",
    "\n",
    "        # Assign the point to the closest mu\n",
    "        z[mu_short[\"index\"]][i] = 1\n",
    "        \n",
    "        ## This is dumb but easy a fix. \n",
    "        # Assign 0 to every other mu for this point \n",
    "        for k in range(0,K):\n",
    "            if not mu_short[\"index\"] == k:\n",
    "                z[k][i] = 0\n",
    "        \n",
    "            \n",
    "    def new_mu(z,k,x):\n",
    "        numerator = np.zeros(2)\n",
    "        for i in range(0,len(x)):\n",
    "            numerator += x[i] * z[k][i]\n",
    "        \n",
    "        d = 0\n",
    "        for j in range(0,len(z[k])):\n",
    "            d += z[k][j]\n",
    "\n",
    "        return numerator / d\n",
    "\n",
    "    # Calculate new mu's\n",
    "    for k in range(0,K):\n",
    "        mu[k] = new_mu(z,k,X)\n",
    "\n",
    "    # Check if mu is different\n",
    "    if np.array_equal(z, z_n):\n",
    "        break\n",
    "\n",
    "# At this point, the mu's are optimal\n",
    "print(mu)\n",
    "\n",
    "#colors = []\n",
    "#for i in range(0, len(x_co)):\n",
    "#    if i == 2:\n",
    "#        colors.append(\"r\")\n",
    "#    else:\n",
    "#       colors.append(\"b\")\n",
    "\n",
    "# Plot points\n",
    "plt.plot(X[:,0],X[:,1],'k.')\n",
    "\n",
    "# Plot the mu's\n",
    "plt.plot(mu[0][0],mu[0][1],'ro')\n",
    "plt.plot(mu[1][0],mu[1][1],'bo')\n",
    "\n",
    "# Show \n",
    "plt.show()"
   ]
  },
  {
   "cell_type": "code",
   "execution_count": null,
   "metadata": {},
   "outputs": [],
   "source": []
  },
  {
   "cell_type": "code",
   "execution_count": null,
   "metadata": {},
   "outputs": [],
   "source": []
  }
 ],
 "metadata": {
  "kernelspec": {
   "display_name": "Python 2",
   "language": "python",
   "name": "python2"
  },
  "language_info": {
   "codemirror_mode": {
    "name": "ipython",
    "version": 2
   },
   "file_extension": ".py",
   "mimetype": "text/x-python",
   "name": "python",
   "nbconvert_exporter": "python",
   "pygments_lexer": "ipython2",
   "version": "2.7.14"
  }
 },
 "nbformat": 4,
 "nbformat_minor": 2
}
