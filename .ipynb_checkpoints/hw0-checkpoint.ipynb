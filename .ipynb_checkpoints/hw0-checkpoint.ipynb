{
 "cells": [
  {
   "cell_type": "markdown",
   "metadata": {
    "colab_type": "text",
    "id": "1UKOQcXNtJ8e"
   },
   "source": [
    "$\\qquad$ $\\qquad$$\\qquad$  **TDA 231 Machine Learning: Homework 0** <br />\n",
    "$\\qquad$ $\\qquad$$\\qquad$ **Goal: Introduction to Probability, Ipython Primer**<br />\n",
    "$\\qquad$ $\\qquad$$\\qquad$                   **Grader: Aristide, Mikael** <br />\n",
    "$\\qquad$ $\\qquad$$\\qquad$                     **Due Date: 26/3** <br />\n",
    "$\\qquad$ $\\qquad$$\\qquad$                   **Submitted by: Name, Personal no., email** <br />"
   ]
  },
  {
   "cell_type": "markdown",
   "metadata": {
    "colab_type": "text",
    "id": "PQ8gZxqWtJ8h"
   },
   "source": [
    "General guidelines:\n",
    "* All solutions to theoretical problems, can be submitted as a single file named *report.pdf*. They can also be submitted in this ipynb notebook, but equations wherever required, should be formatted using LaTeX math-mode.\n",
    "* All discussion regarding practical problems, along with solutions and plots should be specified here itself. We will not generate the solutions/plots again by running your code.\n",
    "* Your name, personal number and email address should be specified above and also in your file *report.pdf*.\n",
    "* All datasets can be downloaded from the course website.\n",
    "* All tables and other additional information should be included."
   ]
  },
  {
   "cell_type": "markdown",
   "metadata": {
    "colab_type": "text",
    "id": "vrnQ98KgtJ8i"
   },
   "source": [
    "**Jupyter/IPython Notebook** is a collaborative Python web-based environment. This will be used in all our Homework Assignments except for Neural Network assignment which is be based on matlab. It is installed in the halls ES61-ES62, E-studio and MT9. You can also use google-colab: https://research.google.com/colaboratory/faq.html \n",
    "to run these notebooks without having to download, install, or do anything on your own computer other than a browser.\n",
    "Some useful resources:\n",
    "1. https://jupyter-notebook-beginner-guide.readthedocs.io/en/latest/ (Quick-start guide)\n",
    "2. https://www.kdnuggets.com/2016/04/top-10-ipython-nb-tutorials.html\n",
    "3. http://data-blog.udacity.com/posts/2016/10/latex-primer/ (latex-primer)\n",
    "4. http://jupyter-notebook.readthedocs.io/en/stable/examples/Notebook/Working%20With%20Markdown%20Cells.html (markdown)"
   ]
  },
  {
   "cell_type": "markdown",
   "metadata": {
    "colab_type": "text",
    "id": "fl1Lu21rtJ8k"
   },
   "source": [
    "# Theoretical problems\n",
    "\n",
    "## [Bayes Rule, 5 points]\n",
    "\n",
    "After your yearly checkup, the doctor has bad news and good news. The\n",
    "bad news is that you tested positive for a very serious cancer and\n",
    "that the test is 99% accurate i.e. the probability of testing\n",
    "positive given you have the disease is 0.99. The probability of\n",
    "testing negative if you don’t have the disease is the same. The good news is that it is a very rare condition affecting only 1 in 10,000 people. What is the probability you actually have the disease? (Show all calculations and the final result.)\n",
    "\n",
    "Let $A$ = \"I got the disease\", $B$ = \"Test is positive\". Given is $P(B\\mid A)=0.99$, $P(A)=\\frac{1}{10000}$ and we want to find $P(B)$. We know that following holds: $$P(B) = \\sum_i P(B \\mid A_i)P(A_i)$$ and hence $$P(B) = P(B \\mid A)P(A)+P(B \\mid A^c)P(A^c) = \\frac{0.99}{10000}+0.01*0.9999 \\approx 0.01 $$\n",
    "\n",
    "## [Correlation and Independence, 5 points]\n",
    "\n",
    "Let $X$ be a continuous variable, uniformly distributed in $[-1, +1]$ and let $Y := X^2$. Clearly $Y$ is dependent of $X$ -- in fact it is uniquely determined by $X$. However, show that $\\mbox{cov}(X, Y ) = 0$.\n",
    "\n",
    "$$ cov(X,Y) = cov(X,X^2) = E[X^3] - E[X]E[X^2] = \\int_{-1}^{1} x^3 f(x)dx - \\int_{-1}^{1} x f(x)dx * \\int_{-1}^{1} x^2 f(x)dx$$ Further we know that $$ f(x) = \\frac{1}{b-a} = \\frac{1}{2} $$ and can continue the evaluation \n",
    "$$ = \\int_{-1}^{1} \\frac{x^3}{2}dx - \\int_{-1}^{1} \\frac{x}{2}dx * \\int_{-1}^{1} \\frac{x^2}{2} = $$ $$ = \\left[\\frac{x^4}{8}\\right]_{-1}^{1} - \\left[\\frac{x^2}{4}\\right]_{-1}^{1}*\\left[\\frac{x^3}{6}\\right]_{-1}^{1} = 0 - 0*(some value) = 0$$\n",
    "\n",
    "## [Setting hyperparameters, 3 points]\n",
    "\n",
    "Suppose $\\theta \\sim \\mbox{Beta}(a,b)$ and we believe $E[\\theta] = m$\n",
    "and $\\mbox{var}(\\theta) = v$. How should the parameters $a$ and $b$ be\n",
    "set to be consistent with this? Confirm that this gives the same values claimed in the lecture."
   ]
  },
  {
   "cell_type": "markdown",
   "metadata": {
    "colab_type": "text",
    "id": "498qdw9utJ8t"
   },
   "source": [
    "# Practical problems\n",
    "\n",
    "## [Plotting normal distributed points, 5 points]\n",
    "\n",
    "Generate $1000$ points from 2D multivariate normal\n",
    "distribution having mean $\\mu = \\left[\n",
    "\\begin{array}{c}\n",
    "  1  \\\\\n",
    "  1\n",
    "\\end{array}\n",
    "\\right]$ and covariance $\\Sigma =\n",
    "\\left[\n",
    "  \\begin{array}{rr}\n",
    "    0.1 & -0.05 \\\\\n",
    "    -0.05&  0.2\n",
    "  \\end{array}\n",
    "\\right]\n",
    "$.  Define the function $f({\\bf x}, r) := \\frac{({\\bf x} - \\mu)^{ \\top } * \\Sigma^{-1} *\n",
    "  ({\\bf x} - \\mu) }{ 2} - r $. On a single plot, show the following:\n",
    "* The level sets $f({\\bf x}, r) = 0$ for $r=1, 2, 3$.\n",
    "* Scatter plot of randomly generated points with points lying\n",
    "outside $f({\\bf x} , 3) = 0$ showing in black while points inside shown in\n",
    "blue.\n",
    "* Title of the plot showing how many points lie outside $f({\\bf\n",
    "    x}, 3) = 0$.\n",
    "Submit your final plot as well as your implementation."
   ]
  },
  {
   "cell_type": "code",
   "execution_count": 3,
   "metadata": {
    "colab": {
     "autoexec": {
      "startup": false,
      "wait_interval": 0
     }
    },
    "colab_type": "code",
    "id": "bXTnJdWTtJ8v",
    "scrolled": true
   },
   "outputs": [
    {
     "data": {
      "text/plain": [
       "<matplotlib.figure.Figure at 0x106f08a10>"
      ]
     },
     "metadata": {},
     "output_type": "display_data"
    }
   ],
   "source": [
    "import sys\n",
    "import numpy as np\n",
    "import matplotlib.pyplot as plt\n",
    "\n",
    "## Given my and cov\n",
    "my = np.array([1,1])\n",
    "cov = np.array([[0.1, -0.05], [-0.05, 0.2]])\n",
    "\n",
    "## Given function from notes\n",
    "def f(x,r):\n",
    "    sub_xmy = np.subtract(x,my)\n",
    "    return (np.dot(np.dot(sub_xmy.transpose(),np.linalg.inv(cov)),sub_xmy)/2)-r\n",
    "\n",
    "## Generate s_p random points\n",
    "s_p = 1000\n",
    "points_x, points_y = np.random.multivariate_normal(my, cov, s_p).T\n",
    "\n",
    "## Define space\n",
    "s_c = 100\n",
    "x = np.linspace(-0.2,2.2,s_c)\n",
    "y = np.linspace(-0.2,2.2,s_c)\n",
    "X, Y = np.meshgrid(x, y)\n",
    "\n",
    "## Create the contours\n",
    "for r in range(1,4):\n",
    "    z = []\n",
    "    for i in range(s_c):\n",
    "        z.append([])\n",
    "        for j in range(s_c):\n",
    "            z[i].append(f((x[i],y[j]),r))\n",
    "    plt.contour(X,Y,z,0)\n",
    "\n",
    "## Define which points to be black/blue\n",
    "c = np.array(['k' if f([x,y],3) > 0 else 'b' for (x,y) in zip(points_x, points_y)])\n",
    "\n",
    "## Plot points\n",
    "plt.title(\"Num of points outside f(x,3)=0 is %d\" % (c == 'k').sum())\n",
    "plt.scatter(points_y, points_x, c=c)\n",
    "plt.show()"
   ]
  },
  {
   "cell_type": "markdown",
   "metadata": {
    "colab_type": "text",
    "id": "hz3UCqmptJ81"
   },
   "source": [
    "### [Covariance and correlation, 5 points]\n",
    "Load dataset0.txt ($X$) containing 1074 data points\n",
    "each having 12 features related to US schools. Compute the covariance\n",
    "and correlation matrix for $X$. Scale each feature\n",
    "in $X$ between $[0, 1]$ to obtain a new dataset $Y$. Compute the\n",
    "covariance and correlation matrices for $X$ and $Y$, and plot them (e.g. as colormaps).\n",
    "What do you observe? Show a scatter plot of the pair of features in $Y$ having minimum\n",
    "correlation, indicating in the title the feature indices and the\n",
    "correlation value. Submit the plots, comments and your implementation."
   ]
  },
  {
   "cell_type": "code",
   "execution_count": 4,
   "metadata": {
    "colab": {
     "autoexec": {
      "startup": false,
      "wait_interval": 0
     },
     "base_uri": "https://localhost:8080/",
     "height": 197,
     "output_extras": [
      {
       "item_id": 1
      }
     ]
    },
    "colab_type": "code",
    "executionInfo": {
     "elapsed": 855,
     "status": "error",
     "timestamp": 1521466765511,
     "user": {
      "displayName": "Divy Grover",
      "photoUrl": "https://lh3.googleusercontent.com/a/default-user=s128",
      "userId": "104758399712966395862"
     },
     "user_tz": -60
    },
    "id": "nIccfvNGtJ82",
    "outputId": "e53f435e-0ac3-4504-c1d3-83e46c508369"
   },
   "outputs": [
    {
     "ename": "NameError",
     "evalue": "name 'Y1' is not defined",
     "output_type": "error",
     "traceback": [
      "\u001b[0;31m---------------------------------------------------------------------------\u001b[0m",
      "\u001b[0;31mNameError\u001b[0m                                 Traceback (most recent call last)",
      "\u001b[0;32m<ipython-input-4-093b2e2311b1>\u001b[0m in \u001b[0;36m<module>\u001b[0;34m()\u001b[0m\n\u001b[1;32m     31\u001b[0m \u001b[0mcorrY\u001b[0m \u001b[0;34m=\u001b[0m \u001b[0mnp\u001b[0m\u001b[0;34m.\u001b[0m\u001b[0mcorrcoef\u001b[0m\u001b[0;34m(\u001b[0m\u001b[0mY\u001b[0m\u001b[0;34m)\u001b[0m\u001b[0;34m\u001b[0m\u001b[0m\n\u001b[1;32m     32\u001b[0m \u001b[0;34m\u001b[0m\u001b[0m\n\u001b[0;32m---> 33\u001b[0;31m \u001b[0mplot3\u001b[0m \u001b[0;34m=\u001b[0m \u001b[0mY1\u001b[0m\u001b[0;34m.\u001b[0m\u001b[0mimshow\u001b[0m\u001b[0;34m(\u001b[0m\u001b[0mcovY\u001b[0m\u001b[0;34m)\u001b[0m\u001b[0;34m\u001b[0m\u001b[0m\n\u001b[0m\u001b[1;32m     34\u001b[0m \u001b[0mY1\u001b[0m\u001b[0;34m.\u001b[0m\u001b[0mset_title\u001b[0m\u001b[0;34m(\u001b[0m\u001b[0;34m\"Covariance of Y\"\u001b[0m\u001b[0;34m)\u001b[0m\u001b[0;34m\u001b[0m\u001b[0m\n\u001b[1;32m     35\u001b[0m \u001b[0mplt\u001b[0m\u001b[0;34m.\u001b[0m\u001b[0mcolorbar\u001b[0m\u001b[0;34m(\u001b[0m\u001b[0mplot3\u001b[0m\u001b[0;34m,\u001b[0m \u001b[0max\u001b[0m\u001b[0;34m=\u001b[0m\u001b[0mY1\u001b[0m\u001b[0;34m)\u001b[0m\u001b[0;34m\u001b[0m\u001b[0m\n",
      "\u001b[0;31mNameError\u001b[0m: name 'Y1' is not defined"
     ]
    }
   ],
   "source": [
    "# Load data\n",
    "X = np.loadtxt(\"dataset.txt\")\n",
    "\n",
    "# Get row and column sizes\n",
    "s_r = X.shape[0]\n",
    "s_c = X.shape[1]\n",
    "\n",
    "# Compute covariance on X\n",
    "covX = np.cov(X)\n",
    "\n",
    "# Compute correlation on X\n",
    "corrX = np.corrcoef(X)\n",
    "\n",
    "# Find min and max for every feature in data\n",
    "bounds = []\n",
    "for i in range(0,X.transpose().shape[0]):\n",
    "    bounds.append([X[i].min(),X[i].max()])    \n",
    "        \n",
    "# Normalize data in a scale of 0-1 into new dataset Y\n",
    "Y = []\n",
    "for i in range(0,len(X)):\n",
    "    Y.append([])\n",
    "    for j in range(0, len(X[i])):\n",
    "        nv = (X[i][j] - bounds[j][0])/(bounds[j][1] - bounds[j][0])\n",
    "        Y[i].append(nv)\n",
    "        \n",
    "# Compute covariance on Y\n",
    "covY = np.cov(Y)\n",
    "\n",
    "# Compute correlation on Y\n",
    "corrY = np.corrcoef(Y)\n",
    "\n",
    "plot3 = Y1.imshow(covY)\n",
    "Y1.set_title(\"Covariance of Y\")\n",
    "plt.colorbar(plot3, ax=Y1)\n",
    "\n",
    "plot4 = Y2.imshow(corrY)\n",
    "Y2.set_title(\"Correlation of Y\")\n",
    "plt.colorbar(plot4, ax=Y2)       \n",
    "\n",
    "# Compute covariance on Y\n",
    "'''\n",
    "covY = np.cov(Y)\n",
    "Y1 = plt.imshow(covY)\n",
    "corrY = np.corrcoef(Y)\n",
    "Y2 = plt.imshow(corrY)\n",
    "# Plot\n",
    "\n",
    "'''\n",
    "plt.show()\n"
   ]
  },
  {
   "cell_type": "code",
   "execution_count": null,
   "metadata": {},
   "outputs": [],
   "source": []
  }
 ],
 "metadata": {
  "colab": {
   "default_view": {},
   "name": "HW0.ipynb",
   "provenance": [],
   "version": "0.3.2",
   "views": {}
  },
  "kernelspec": {
   "display_name": "Python 2",
   "language": "python",
   "name": "python2"
  },
  "language_info": {
   "codemirror_mode": {
    "name": "ipython",
    "version": 2
   },
   "file_extension": ".py",
   "mimetype": "text/x-python",
   "name": "python",
   "nbconvert_exporter": "python",
   "pygments_lexer": "ipython2",
   "version": "2.7.14"
  }
 },
 "nbformat": 4,
 "nbformat_minor": 1
}
