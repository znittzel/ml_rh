{
 "cells": [
  {
   "cell_type": "markdown",
   "metadata": {},
   "source": [
    "$\\qquad$ $\\qquad$$\\qquad$  **TDA 231 Machine Learning: Homework 5** <br />\n",
    "$\\qquad$ $\\qquad$$\\qquad$ **Goal: Clustering**<br />\n",
    "$\\qquad$ $\\qquad$$\\qquad$                   **Grader: Aristide** <br />\n",
    "$\\qquad$ $\\qquad$$\\qquad$                     **Due Date: 21/5** <br />\n",
    "$\\qquad$ $\\qquad$$\\qquad$                   **Submitted by: Rikard Olsson, 900713-0355, rikolss@student.chalmers.se** <br />\n",
    "$\\qquad$ $\\qquad$$\\qquad$      **and by: Sharan Sabi, 951207-7554, ssharan@student.chalmers.se**\n",
    "<br />"
   ]
  },
  {
   "cell_type": "markdown",
   "metadata": {},
   "source": [
    "General guidelines:\n",
    "* Since there is no theoretical part for this assigment, submit this ipynb only (with completed code/results).\n",
    "* All discussion regarding practical problems, along with solutions and plots should be specified here itself. We will not generate the solutions/plots again by running your code.\n",
    "* Your name, personal number and email address should be specified above.\n",
    "* All datasets can be downloaded from the course website.\n",
    "* All plots/tables and other relevant information should be included."
   ]
  },
  {
   "cell_type": "markdown",
   "metadata": {},
   "source": [
    "# Practical problems\n",
    "\n",
    "The follwing code might be useful for this excercise.\n",
    "\n",
    "```python\n",
    "import scipy.io\n",
    "mat = scipy.io.loadmat('hw5_p1a.mat')\n",
    "print (mat.keys())\n",
    "X = mat['X']\n",
    "```\n",
    "\n",
    "## [K-Means Implementation, 20 points]\n",
    "\n",
    "a. Implement the basic (linear) $k$-means algorithm as described in the lecture, using the euclidean distance. Use (uniformly) random points from the data as initialization for the centroids. Terminate the iterative procedure when the the cluster assignments do not change.\n",
    "\n",
    "b. Run your implementation on the matrix $X$ in **hw5_p1a.mat** with $k=2$. Each row of the matrix is an observation, and each column is a feature. Store the cluster assignment both after 2 iterations, and at convergence. Produce a scatter plot of the data with colors indicating the cluster assignments at convergence and highlight points that have changed assignment after the second iteration.\n",
    "\n",
    "c. Implement the kernel $k$-means algorithm as described in the lecture, using the Gaussian RBF-kernel.\n",
    "\n",
    "\n",
    "d. Run the linear $k$-means **and** your kernel $k$-means on **hw5_p1b.mat** with $k=2$. For the Gaussian RBF-kernel, use $\\sigma=0.2$. Produce scatter plots of the data, with color indicating the cluster assignment at convergence, one plot for each of the algorithms."
   ]
  },
  {
   "cell_type": "code",
   "execution_count": 64,
   "metadata": {},
   "outputs": [
    {
     "name": "stdout",
     "output_type": "stream",
     "text": [
      "d\n",
      "49\n",
      "201\n",
      "d\n",
      "49\n",
      "201\n",
      "[2.18967136 2.204374  ]\n",
      "[-0.04576663 -0.03849837]\n"
     ]
    },
    {
     "data": {
      "image/png": "[encoded data removed]",
      "text/plain": [
       "<matplotlib.figure.Figure at 0x181e1b35d0>"
      ]
     },
     "metadata": {},
     "output_type": "display_data"
    }
   ],
   "source": [
    "import scipy.io\n",
    "import numpy as np\n",
    "import copy\n",
    "import matplotlib.pyplot as plt\n",
    "\n",
    "mat = scipy.io.loadmat('hw5_p1a.mat')\n",
    "X = mat['X']\n",
    "\n",
    "################################################## a) #############################################\n",
    "# Assume 2 clusters, K = 2\n",
    "K = 2\n",
    "\n",
    "# Define a run_again var to determine if we're done or not and init to True\n",
    "z = {\n",
    "    1: {},\n",
    "    2: {}\n",
    "}\n",
    "# Run until the mu's are not changed anymore\n",
    "while True:\n",
    "\n",
    "    # Guess their centroids (qualified guess :)\n",
    "    mu_1 = [3,3]\n",
    "    mu_2 = [0,0]\n",
    "\n",
    "    # Create a dictionary for z_nk, where k = {1,2} and n are the points\n",
    "    z_n = copy.deepcopy(z)\n",
    "\n",
    "    # Calculate the distance from every point to mu_1 and mu_2\n",
    "    for i in range(0, len(X)):\n",
    "        p = X[i]\n",
    "        mu_1_dist = np.linalg.norm(p-mu_1)\n",
    "        mu_2_dist = np.linalg.norm(p-mu_2)\n",
    "\n",
    "        # Assign the closest distance to its corresponding mu\n",
    "        if mu_1_dist < mu_2_dist:\n",
    "            z[1][i] = 1\n",
    "            z[2][i] = 0\n",
    "        else:\n",
    "            z[1][i] = 0\n",
    "            z[2][i] = 1\n",
    "            \n",
    "    def new_mu(z,k,x):\n",
    "        numerator = np.zeros(2)\n",
    "        for i in range(0,len(x)):\n",
    "            numerator += x[i] * z[k][i]\n",
    "        \n",
    "        d = 0\n",
    "        for j in range(0,len(z[k])):\n",
    "            d += z[k][j]\n",
    "            \n",
    "        print(d)\n",
    "\n",
    "        return numerator / d\n",
    "    print(\"d\")\n",
    "    # Calculate new mu\n",
    "    mu_1 = new_mu(z,1,X)\n",
    "    mu_2 = new_mu(z,2,X)\n",
    "\n",
    "    # Check if mu is different\n",
    "    if np.array_equal(z, z_n):\n",
    "        break\n",
    "\n",
    "# At this point, the mu's are optimal\n",
    "print(mu_1)\n",
    "print(mu_2)\n",
    "\n",
    "#colors = []\n",
    "#for i in range(0, len(x_co)):\n",
    "#    if i == 2:\n",
    "#        colors.append(\"r\")\n",
    "#    else:\n",
    "#       colors.append(\"b\")\n",
    "        \n",
    "plt.plot(X[:,0],X[:,1],'k.')\n",
    "plt.plot(mu_1[0],mu_1[1],'ro')\n",
    "plt.plot(mu_2[0],mu_2[1],'bo')\n",
    "plt.show()"
   ]
  },
  {
   "cell_type": "code",
   "execution_count": null,
   "metadata": {},
   "outputs": [],
   "source": []
  },
  {
   "cell_type": "code",
   "execution_count": null,
   "metadata": {},
   "outputs": [],
   "source": []
  }
 ],
 "metadata": {
  "kernelspec": {
   "display_name": "Python 2",
   "language": "python",
   "name": "python2"
  },
  "language_info": {
   "codemirror_mode": {
    "name": "ipython",
    "version": 2
   },
   "file_extension": ".py",
   "mimetype": "text/x-python",
   "name": "python",
   "nbconvert_exporter": "python",
   "pygments_lexer": "ipython2",
   "version": "2.7.14"
  }
 },
 "nbformat": 4,
 "nbformat_minor": 2
}
